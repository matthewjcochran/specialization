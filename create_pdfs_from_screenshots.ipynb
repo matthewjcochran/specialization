{
 "cells": [
  {
   "cell_type": "code",
   "execution_count": 1,
   "metadata": {},
   "outputs": [],
   "source": [
    "import os\n",
    "import xml.etree.ElementTree as ET\n",
    "from IPython.display import display, HTML"
   ]
  },
  {
   "cell_type": "code",
   "execution_count": 2,
   "metadata": {},
   "outputs": [],
   "source": [
    "# # Get basic xml tree from folders:\n",
    "# # specialization, courses, weeks\n",
    "\n",
    "# specialization_name = os.path.basename(os.getcwd())\n",
    "# specialization = ET.Element('specialization',\n",
    "#     attrib={'name': specialization_name})\n",
    "\n",
    "# course_names = sorted([f for f in os.listdir() if f.startswith('Course')])\n",
    "# for course_name in course_names:\n",
    "#     course_path = course_name\n",
    "#     course = ET.SubElement(specialization, 'course',\n",
    "#         attrib={'name': course_name, 'path': course_path}) \n",
    "    \n",
    "#     week_names = sorted([f for f in os.listdir(course_path)if f.startswith('Week')])\n",
    "#     for week_name in week_names:\n",
    "#         week_path = os.path.join(course_path, week_name)\n",
    "#         week = ET.SubElement(course, 'week',\n",
    "#             attrib={'name': week_name, 'path': week_path}) \n",
    "\n",
    "        \n",
    "# print(specialization.get('name'))\n",
    "# print()\n",
    "# for course in specialization.findall('course'):\n",
    "#     print(course.get('name'))\n",
    "#     print()\n",
    "#     for week in course.findall('week'):\n",
    "#         print(week.get('name'))\n",
    "#     print()"
   ]
  },
  {
   "cell_type": "code",
   "execution_count": 3,
   "metadata": {
    "scrolled": true
   },
   "outputs": [],
   "source": [
    "# # Convert screenshots pngs to pdfs:\n",
    "# # some assumptions here\n",
    "\n",
    "# import img2pdf\n",
    "\n",
    "# weeks = specialization.findall('course/week')\n",
    "# for week in weeks:\n",
    "#     week_path = week.get('path')\n",
    "    \n",
    "#     screenshots_names = [f for f in os.listdir(week_path) if f.startswith('screenshots')]\n",
    "#     for screenshots_name in screenshots_names:\n",
    "#         screenshots_path = os.path.join(week_path, screenshots_name)\n",
    "        \n",
    "#         pdf_name = screenshots_name.split('screenshots ')[1]\n",
    "#         pdf_path = os.path.join(week_path, pdf_name)\n",
    "        \n",
    "#         png_names = sorted([f for f in os.listdir(screenshots_path) if f.endswith('.png')])\n",
    "#         png_paths = [os.path.join(screenshots_path, png_name) for png_name in png_names]\n",
    "        \n",
    "#         with open(pdf_path, 'wb') as f:\n",
    "#             convert = img2pdf.convert(png_paths)\n",
    "#             f.write(convert)"
   ]
  },
  {
   "cell_type": "code",
   "execution_count": 19,
   "metadata": {
    "scrolled": false
   },
   "outputs": [],
   "source": [
    "# Get xml tree from folders:\n",
    "# specialization, courses, weeks, quizzes, labs\n",
    "\n",
    "specialization_name = os.path.basename(os.getcwd())\n",
    "specialization = ET.Element('specialization',\n",
    "    attrib={'name': specialization_name})\n",
    "\n",
    "course_names = sorted([f for f in os.listdir() if f.startswith('Course')])\n",
    "for course_name in course_names:\n",
    "    course_path = course_name\n",
    "    course = ET.SubElement(specialization, 'course',\n",
    "        attrib={'name': course_name, 'path': course_path}) \n",
    "    \n",
    "    week_names = sorted([f for f in os.listdir(course_path)if f.startswith('Week')])\n",
    "    for week_name in week_names:\n",
    "        week_path = os.path.join(course_path, week_name)\n",
    "        week = ET.SubElement(course, 'week',\n",
    "            attrib={'name': week_name, 'path': week_path}) \n",
    "\n",
    "        quiz_names = sorted([f for f in os.listdir(week_path)if f.startswith('Quiz')])\n",
    "        for quiz_name in quiz_names:\n",
    "            quiz_path = os.path.join(week_path, quiz_name)\n",
    "            quiz = ET.SubElement(week, 'quiz',\n",
    "                attrib={'name': quiz_name, 'path': quiz_path})\n",
    "            \n",
    "        lab_names = sorted([f for f in os.listdir(week_path)if f.startswith('Lab')])\n",
    "        for lab_name in lab_names:\n",
    "            lab_path = os.path.join(week_path, lab_name)\n",
    "            lab = ET.SubElement(week, 'lab',\n",
    "                attrib={'name': lab_name, 'path': lab_path})"
   ]
  },
  {
   "cell_type": "code",
   "execution_count": 25,
   "metadata": {},
   "outputs": [
    {
     "data": {
      "text/html": [
       "<h1>Deep Learning Specialization</h1><h2>Course 1 - Neural Networks and Deep Learning</h2><ul><li>Week 1 - Introduction to Deep Learning</li><ul><li><a href=\"Course 1 - Neural Networks and Deep Learning/Week 1 - Introduction to Deep Learning/Quiz - Introduction to Deep Learning\">Quiz - Introduction to Deep Learning</a></li><li><a href=\"Course 1 - Neural Networks and Deep Learning/Week 1 - Introduction to Deep Learning/Lab a - Python Basics with Numpy\">Lab a - Python Basics with Numpy</a></li></ul><li>Week 2 - Neural Networks Basics</li><ul><li><a href=\"Course 1 - Neural Networks and Deep Learning/Week 2 - Neural Networks Basics/Quiz - Neural Network Basics\">Quiz - Neural Network Basics</a></li><li><a href=\"Course 1 - Neural Networks and Deep Learning/Week 2 - Neural Networks Basics/Lab 1 - Logistic Regression with a Neural Network\">Lab 1 - Logistic Regression with a Neural Network</a></li></ul><li>Week 3 - Shallow Neural Networks</li><ul><li><a href=\"Course 1 - Neural Networks and Deep Learning/Week 3 - Shallow Neural Networks/Quiz - Shallow Neural Networks\">Quiz - Shallow Neural Networks</a></li><li><a href=\"Course 1 - Neural Networks and Deep Learning/Week 3 - Shallow Neural Networks/Lab 1 - Planar Classification with one Hidden Layer\">Lab 1 - Planar Classification with one Hidden Layer</a></li></ul><li>Week 4 - Deep Neural Networks</li><ul><li><a href=\"Course 1 - Neural Networks and Deep Learning/Week 4 - Deep Neural Networks/Quiz - Key Concepts on Deep Neural Networks\">Quiz - Key Concepts on Deep Neural Networks</a></li><li><a href=\"Course 1 - Neural Networks and Deep Learning/Week 4 - Deep Neural Networks/Lab 1 - Building a Deep Neural Network - Step by Step\">Lab 1 - Building a Deep Neural Network - Step by Step</a></li><li><a href=\"Course 1 - Neural Networks and Deep Learning/Week 4 - Deep Neural Networks/Lab 2 - Deep Neural Network for Image Classification\">Lab 2 - Deep Neural Network for Image Classification</a></li></ul></ul><h2>Course 2 - Improving Deep Neural Networks - Hyperparameter Tuning, Regularization, and Optimization</h2><ul><li>Week 1 - Practical Aspects of Deep Learning</li><ul><li><a href=\"Course 2 - Improving Deep Neural Networks - Hyperparameter Tuning, Regularization, and Optimization/Week 1 - Practical Aspects of Deep Learning/Quiz - Practical Aspects of Deep Learning\">Quiz - Practical Aspects of Deep Learning</a></li><li><a href=\"Course 2 - Improving Deep Neural Networks - Hyperparameter Tuning, Regularization, and Optimization/Week 1 - Practical Aspects of Deep Learning/Lab 1 - Initialization\">Lab 1 - Initialization</a></li><li><a href=\"Course 2 - Improving Deep Neural Networks - Hyperparameter Tuning, Regularization, and Optimization/Week 1 - Practical Aspects of Deep Learning/Lab 2 - Regularization\">Lab 2 - Regularization</a></li><li><a href=\"Course 2 - Improving Deep Neural Networks - Hyperparameter Tuning, Regularization, and Optimization/Week 1 - Practical Aspects of Deep Learning/Lab 3 - Gradient Checking\">Lab 3 - Gradient Checking</a></li></ul><li>Week 2 - Optimization Algorithms</li><ul><li><a href=\"Course 2 - Improving Deep Neural Networks - Hyperparameter Tuning, Regularization, and Optimization/Week 2 - Optimization Algorithms/Quiz - Optimization Algorithms\">Quiz - Optimization Algorithms</a></li><li><a href=\"Course 2 - Improving Deep Neural Networks - Hyperparameter Tuning, Regularization, and Optimization/Week 2 - Optimization Algorithms/Lab 1 - Optimization Methods\">Lab 1 - Optimization Methods</a></li></ul><li>Week 3 - Hyperparameter Tuning, Batch Normalization, and Programming Frameworks</li><ul><li><a href=\"Course 2 - Improving Deep Neural Networks - Hyperparameter Tuning, Regularization, and Optimization/Week 3 - Hyperparameter Tuning, Batch Normalization, and Programming Frameworks/Quiz - Hyperparameter Tuning, Batch Normalization, and Programming Frameworks\">Quiz - Hyperparameter Tuning, Batch Normalization, and Programming Frameworks</a></li><li><a href=\"Course 2 - Improving Deep Neural Networks - Hyperparameter Tuning, Regularization, and Optimization/Week 3 - Hyperparameter Tuning, Batch Normalization, and Programming Frameworks/Lab 1 - Introduction to TensorFlow\">Lab 1 - Introduction to TensorFlow</a></li></ul></ul><h2>Course 3 - Structuring Machine Learning Projects</h2><ul><li>Week 1 - ML Strategy (1)</li><ul><li><a href=\"Course 3 - Structuring Machine Learning Projects/Week 1 - ML Strategy (1)/Quiz - Bird Recognition in the City of Peacetopia (Case Study)\">Quiz - Bird Recognition in the City of Peacetopia (Case Study)</a></li></ul><li>Week 2 - ML Strategy (2)</li><ul><li><a href=\"Course 3 - Structuring Machine Learning Projects/Week 2 - ML Strategy (2)/Quiz - Autonomous Driving (Case Study)\">Quiz - Autonomous Driving (Case Study)</a></li></ul></ul><h2>Course 4 - Convolutional Neural Networks</h2><ul><li>Week 1 - Foundations of Convolutional Neural Networks</li><ul><li><a href=\"Course 4 - Convolutional Neural Networks/Week 1 - Foundations of Convolutional Neural Networks/Quiz - The Basics of ConvNets\">Quiz - The Basics of ConvNets</a></li><li><a href=\"Course 4 - Convolutional Neural Networks/Week 1 - Foundations of Convolutional Neural Networks/Lab 1 - Convolutional Neural Networks - Step by Step\">Lab 1 - Convolutional Neural Networks - Step by Step</a></li><li><a href=\"Course 4 - Convolutional Neural Networks/Week 1 - Foundations of Convolutional Neural Networks/Lab 2 - Application\">Lab 2 - Application</a></li></ul><li>Week 2 - Deep Convolutional Models - Case Studies</li><ul><li><a href=\"Course 4 - Convolutional Neural Networks/Week 2 - Deep Convolutional Models - Case Studies/Quiz - Deep Convolutional Models\">Quiz - Deep Convolutional Models</a></li><li><a href=\"Course 4 - Convolutional Neural Networks/Week 2 - Deep Convolutional Models - Case Studies/Lab 1 - Residual Networks\">Lab 1 - Residual Networks</a></li><li><a href=\"Course 4 - Convolutional Neural Networks/Week 2 - Deep Convolutional Models - Case Studies/Lab 2 - Transfer learning with MobileNet\">Lab 2 - Transfer learning with MobileNet</a></li></ul><li>Week 3 - Object Detection</li><ul><li><a href=\"Course 4 - Convolutional Neural Networks/Week 3 - Object Detection/Quiz - Detection Algorithms\">Quiz - Detection Algorithms</a></li><li><a href=\"Course 4 - Convolutional Neural Networks/Week 3 - Object Detection/Lab 1 - Autonomous Driving - Car Detection\">Lab 1 - Autonomous Driving - Car Detection</a></li><li><a href=\"Course 4 - Convolutional Neural Networks/Week 3 - Object Detection/Lab 2 - Image Segmentation with U-Net\">Lab 2 - Image Segmentation with U-Net</a></li></ul><li>Week 4 - Special Applications - Face Recognition and Neural Style Transfer</li><ul><li><a href=\"Course 4 - Convolutional Neural Networks/Week 4 - Special Applications - Face Recognition and Neural Style Transfer/Quiz - Face Recognition and Neural Style Transfer\">Quiz - Face Recognition and Neural Style Transfer</a></li><li><a href=\"Course 4 - Convolutional Neural Networks/Week 4 - Special Applications - Face Recognition and Neural Style Transfer/Lab 1 - Face Recognition\">Lab 1 - Face Recognition</a></li><li><a href=\"Course 4 - Convolutional Neural Networks/Week 4 - Special Applications - Face Recognition and Neural Style Transfer/Lab 2 - Art Generation with Neural Style Transfer\">Lab 2 - Art Generation with Neural Style Transfer</a></li></ul></ul><h2>Course 5 - Sequence Models</h2><ul><li>Week 1 - Recurrent Neural Networks</li><ul><li><a href=\"Course 5 - Sequence Models/Week 1 - Recurrent Neural Networks/Quiz - Recurrent Neural Networks\">Quiz - Recurrent Neural Networks</a></li><li><a href=\"Course 5 - Sequence Models/Week 1 - Recurrent Neural Networks/Lab 1 - Building a Recurrent Neural Network - Step by Step\">Lab 1 - Building a Recurrent Neural Network - Step by Step</a></li><li><a href=\"Course 5 - Sequence Models/Week 1 - Recurrent Neural Networks/Lab 2 - Dinosaurus Island Character level language Model\">Lab 2 - Dinosaurus Island Character level language Model</a></li></ul><li>Week 2 - Natural Language Processing and Word Embeddings</li><ul><li><a href=\"Course 5 - Sequence Models/Week 2 - Natural Language Processing and Word Embeddings/Quiz - Natural Language Processing and Word Embeddings\">Quiz - Natural Language Processing and Word Embeddings</a></li><li><a href=\"Course 5 - Sequence Models/Week 2 - Natural Language Processing and Word Embeddings/Lab 1 - Operations on Word Vectors\">Lab 1 - Operations on Word Vectors</a></li><li><a href=\"Course 5 - Sequence Models/Week 2 - Natural Language Processing and Word Embeddings/Lab 2 - Emojify!\">Lab 2 - Emojify!</a></li></ul><li>Week 3 - Sequence Models and the Attention Mechanism</li><ul><li><a href=\"Course 5 - Sequence Models/Week 3 - Sequence Models and the Attention Mechanism/Quiz - Sequence Models & Attention Mechanism\">Quiz - Sequence Models & Attention Mechanism</a></li><li><a href=\"Course 5 - Sequence Models/Week 3 - Sequence Models and the Attention Mechanism/Lab 1 - Neural Machine Translation with Attention\">Lab 1 - Neural Machine Translation with Attention</a></li><li><a href=\"Course 5 - Sequence Models/Week 3 - Sequence Models and the Attention Mechanism/Lab 2 - Trigger Word Detection\">Lab 2 - Trigger Word Detection</a></li></ul><li>Week 4 - Transformers</li><ul><li><a href=\"Course 5 - Sequence Models/Week 4 - Transformers/Quiz - Transformers\">Quiz - Transformers</a></li><li><a href=\"Course 5 - Sequence Models/Week 4 - Transformers/Lab 1 - Transformer Newtork\">Lab 1 - Transformer Newtork</a></li><li><a href=\"Course 5 - Sequence Models/Week 4 - Transformers/Lab a - Transformer Pre-processing\">Lab a - Transformer Pre-processing</a></li><li><a href=\"Course 5 - Sequence Models/Week 4 - Transformers/Lab b - Transformer Application - Named Entity Recognition\">Lab b - Transformer Application - Named Entity Recognition</a></li></ul></ul>"
      ],
      "text/plain": [
       "<IPython.core.display.HTML object>"
      ]
     },
     "metadata": {},
     "output_type": "display_data"
    }
   ],
   "source": [
    "html = f'<h1>{specialization.get(\"name\")}</h1>'\n",
    "\n",
    "for course in specialization.findall('course'):\n",
    "    html += f'<h2>{course.get(\"name\")}</h2>'\n",
    "    html += f'<ul>'\n",
    "    for week in course.findall('week'):\n",
    "        html += f'<li>{week.get(\"name\")}</li>'\n",
    "        html += f'<ul>'\n",
    "        \n",
    "        for quiz in week.findall('quiz'):\n",
    "            quiz_name = quiz.get('name')\n",
    "            quiz_path = quiz.get('path')\n",
    "            html += f'<li><a href=\"{quiz_path}\">{quiz_name}</a></li>'\n",
    "            \n",
    "        for lab in week.findall('lab'):\n",
    "            lab_name = lab.get('name')\n",
    "            lab_path = lab.get('path')\n",
    "            html += f'<li><a href=\"{lab_path}\">{lab_name}</a></li>'\n",
    "            \n",
    "        html += f'</ul>'\n",
    "    html += f'</ul>'\n",
    "\n",
    "display(HTML(html))"
   ]
  },
  {
   "cell_type": "code",
   "execution_count": null,
   "metadata": {},
   "outputs": [],
   "source": []
  },
  {
   "cell_type": "code",
   "execution_count": null,
   "metadata": {
    "scrolled": false
   },
   "outputs": [],
   "source": []
  },
  {
   "cell_type": "code",
   "execution_count": null,
   "metadata": {},
   "outputs": [],
   "source": []
  },
  {
   "cell_type": "code",
   "execution_count": null,
   "metadata": {},
   "outputs": [],
   "source": []
  },
  {
   "cell_type": "code",
   "execution_count": null,
   "metadata": {},
   "outputs": [],
   "source": []
  },
  {
   "cell_type": "code",
   "execution_count": null,
   "metadata": {},
   "outputs": [],
   "source": []
  },
  {
   "cell_type": "code",
   "execution_count": null,
   "metadata": {},
   "outputs": [],
   "source": []
  },
  {
   "cell_type": "code",
   "execution_count": null,
   "metadata": {},
   "outputs": [],
   "source": []
  },
  {
   "cell_type": "code",
   "execution_count": null,
   "metadata": {},
   "outputs": [],
   "source": []
  },
  {
   "cell_type": "code",
   "execution_count": null,
   "metadata": {},
   "outputs": [],
   "source": []
  }
 ],
 "metadata": {
  "kernelspec": {
   "display_name": "Python 3",
   "language": "python",
   "name": "python3"
  },
  "language_info": {
   "codemirror_mode": {
    "name": "ipython",
    "version": 3
   },
   "file_extension": ".py",
   "mimetype": "text/x-python",
   "name": "python",
   "nbconvert_exporter": "python",
   "pygments_lexer": "ipython3",
   "version": "3.8.5"
  }
 },
 "nbformat": 4,
 "nbformat_minor": 4
}
